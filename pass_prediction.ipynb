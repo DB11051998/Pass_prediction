{
 "cells": [
  {
   "cell_type": "code",
   "execution_count": 1,
   "metadata": {},
   "outputs": [],
   "source": [
    "import pandas as pd\n",
    "import numpy as np\n",
    "import matplotlib.pyplot as plt\n",
    "import seaborn as sns"
   ]
  },
  {
   "cell_type": "code",
   "execution_count": 3,
   "metadata": {},
   "outputs": [],
   "source": [
    "df_train=pd.read_csv('train_HK6lq50.csv')\n",
    "df_test=pd.read_csv('test_wF0Ps6O.csv')"
   ]
  },
  {
   "cell_type": "code",
   "execution_count": 4,
   "metadata": {},
   "outputs": [
    {
     "data": {
      "text/html": [
       "<div>\n",
       "<style scoped>\n",
       "    .dataframe tbody tr th:only-of-type {\n",
       "        vertical-align: middle;\n",
       "    }\n",
       "\n",
       "    .dataframe tbody tr th {\n",
       "        vertical-align: top;\n",
       "    }\n",
       "\n",
       "    .dataframe thead th {\n",
       "        text-align: right;\n",
       "    }\n",
       "</style>\n",
       "<table border=\"1\" class=\"dataframe\">\n",
       "  <thead>\n",
       "    <tr style=\"text-align: right;\">\n",
       "      <th></th>\n",
       "      <th>id</th>\n",
       "      <th>program_id</th>\n",
       "      <th>program_type</th>\n",
       "      <th>program_duration</th>\n",
       "      <th>test_id</th>\n",
       "      <th>test_type</th>\n",
       "      <th>difficulty_level</th>\n",
       "      <th>trainee_id</th>\n",
       "      <th>gender</th>\n",
       "      <th>education</th>\n",
       "      <th>city_tier</th>\n",
       "      <th>age</th>\n",
       "      <th>total_programs_enrolled</th>\n",
       "      <th>is_handicapped</th>\n",
       "      <th>trainee_engagement_rating</th>\n",
       "      <th>is_pass</th>\n",
       "    </tr>\n",
       "  </thead>\n",
       "  <tbody>\n",
       "    <tr>\n",
       "      <th>0</th>\n",
       "      <td>9389_150</td>\n",
       "      <td>Y_1</td>\n",
       "      <td>Y</td>\n",
       "      <td>136</td>\n",
       "      <td>150</td>\n",
       "      <td>offline</td>\n",
       "      <td>intermediate</td>\n",
       "      <td>9389</td>\n",
       "      <td>M</td>\n",
       "      <td>Matriculation</td>\n",
       "      <td>3</td>\n",
       "      <td>24.0</td>\n",
       "      <td>5</td>\n",
       "      <td>N</td>\n",
       "      <td>1.0</td>\n",
       "      <td>0</td>\n",
       "    </tr>\n",
       "    <tr>\n",
       "      <th>1</th>\n",
       "      <td>16523_44</td>\n",
       "      <td>T_1</td>\n",
       "      <td>T</td>\n",
       "      <td>131</td>\n",
       "      <td>44</td>\n",
       "      <td>offline</td>\n",
       "      <td>easy</td>\n",
       "      <td>16523</td>\n",
       "      <td>F</td>\n",
       "      <td>High School Diploma</td>\n",
       "      <td>4</td>\n",
       "      <td>26.0</td>\n",
       "      <td>2</td>\n",
       "      <td>N</td>\n",
       "      <td>3.0</td>\n",
       "      <td>1</td>\n",
       "    </tr>\n",
       "    <tr>\n",
       "      <th>2</th>\n",
       "      <td>13987_178</td>\n",
       "      <td>Z_2</td>\n",
       "      <td>Z</td>\n",
       "      <td>120</td>\n",
       "      <td>178</td>\n",
       "      <td>online</td>\n",
       "      <td>easy</td>\n",
       "      <td>13987</td>\n",
       "      <td>M</td>\n",
       "      <td>Matriculation</td>\n",
       "      <td>1</td>\n",
       "      <td>40.0</td>\n",
       "      <td>1</td>\n",
       "      <td>N</td>\n",
       "      <td>2.0</td>\n",
       "      <td>1</td>\n",
       "    </tr>\n",
       "    <tr>\n",
       "      <th>3</th>\n",
       "      <td>13158_32</td>\n",
       "      <td>T_2</td>\n",
       "      <td>T</td>\n",
       "      <td>117</td>\n",
       "      <td>32</td>\n",
       "      <td>offline</td>\n",
       "      <td>easy</td>\n",
       "      <td>13158</td>\n",
       "      <td>F</td>\n",
       "      <td>Matriculation</td>\n",
       "      <td>3</td>\n",
       "      <td>NaN</td>\n",
       "      <td>4</td>\n",
       "      <td>N</td>\n",
       "      <td>1.0</td>\n",
       "      <td>1</td>\n",
       "    </tr>\n",
       "    <tr>\n",
       "      <th>4</th>\n",
       "      <td>10591_84</td>\n",
       "      <td>V_3</td>\n",
       "      <td>V</td>\n",
       "      <td>131</td>\n",
       "      <td>84</td>\n",
       "      <td>offline</td>\n",
       "      <td>intermediate</td>\n",
       "      <td>10591</td>\n",
       "      <td>F</td>\n",
       "      <td>High School Diploma</td>\n",
       "      <td>1</td>\n",
       "      <td>42.0</td>\n",
       "      <td>2</td>\n",
       "      <td>N</td>\n",
       "      <td>4.0</td>\n",
       "      <td>1</td>\n",
       "    </tr>\n",
       "  </tbody>\n",
       "</table>\n",
       "</div>"
      ],
      "text/plain": [
       "          id program_id program_type  program_duration  test_id test_type  \\\n",
       "0   9389_150        Y_1            Y               136      150   offline   \n",
       "1   16523_44        T_1            T               131       44   offline   \n",
       "2  13987_178        Z_2            Z               120      178    online   \n",
       "3   13158_32        T_2            T               117       32   offline   \n",
       "4   10591_84        V_3            V               131       84   offline   \n",
       "\n",
       "  difficulty_level  trainee_id gender            education  city_tier   age  \\\n",
       "0     intermediate        9389      M        Matriculation          3  24.0   \n",
       "1             easy       16523      F  High School Diploma          4  26.0   \n",
       "2             easy       13987      M        Matriculation          1  40.0   \n",
       "3             easy       13158      F        Matriculation          3   NaN   \n",
       "4     intermediate       10591      F  High School Diploma          1  42.0   \n",
       "\n",
       "   total_programs_enrolled is_handicapped  trainee_engagement_rating  is_pass  \n",
       "0                        5              N                        1.0        0  \n",
       "1                        2              N                        3.0        1  \n",
       "2                        1              N                        2.0        1  \n",
       "3                        4              N                        1.0        1  \n",
       "4                        2              N                        4.0        1  "
      ]
     },
     "execution_count": 4,
     "metadata": {},
     "output_type": "execute_result"
    }
   ],
   "source": [
    "df_train.head()"
   ]
  },
  {
   "cell_type": "code",
   "execution_count": 9,
   "metadata": {},
   "outputs": [
    {
     "data": {
      "text/plain": [
       "Index(['id', 'program_id', 'program_type', 'program_duration', 'test_id',\n",
       "       'test_type', 'difficulty_level', 'trainee_id', 'gender', 'education',\n",
       "       'city_tier', 'age', 'total_programs_enrolled', 'is_handicapped',\n",
       "       'trainee_engagement_rating', 'is_pass'],\n",
       "      dtype='object')"
      ]
     },
     "execution_count": 9,
     "metadata": {},
     "output_type": "execute_result"
    }
   ],
   "source": [
    "df_train.columns"
   ]
  },
  {
   "cell_type": "code",
   "execution_count": 22,
   "metadata": {},
   "outputs": [
    {
     "data": {
      "text/plain": [
       "id                            object\n",
       "program_id                    object\n",
       "program_type                  object\n",
       "program_duration               int64\n",
       "test_id                        int64\n",
       "test_type                     object\n",
       "difficulty_level              object\n",
       "trainee_id                     int64\n",
       "gender                        object\n",
       "education                     object\n",
       "city_tier                      int64\n",
       "age                          float64\n",
       "total_programs_enrolled        int64\n",
       "is_handicapped                object\n",
       "trainee_engagement_rating    float64\n",
       "is_pass                        int64\n",
       "dtype: object"
      ]
     },
     "execution_count": 22,
     "metadata": {},
     "output_type": "execute_result"
    }
   ],
   "source": [
    "df_train.dtypes"
   ]
  },
  {
   "cell_type": "code",
   "execution_count": 32,
   "metadata": {},
   "outputs": [],
   "source": [
    "Nan_columns=[df_train.columns[i] for i in range(len(df_train.dtypes)) if df_train.isna().any()[i]==True] "
   ]
  },
  {
   "cell_type": "markdown",
   "metadata": {},
   "source": [
    "#### trainee id column is quite irrelevant we will remove it as it formed from combination of program id + program type"
   ]
  },
  {
   "cell_type": "code",
   "execution_count": 34,
   "metadata": {},
   "outputs": [
    {
     "data": {
      "text/html": [
       "<div>\n",
       "<style scoped>\n",
       "    .dataframe tbody tr th:only-of-type {\n",
       "        vertical-align: middle;\n",
       "    }\n",
       "\n",
       "    .dataframe tbody tr th {\n",
       "        vertical-align: top;\n",
       "    }\n",
       "\n",
       "    .dataframe thead th {\n",
       "        text-align: right;\n",
       "    }\n",
       "</style>\n",
       "<table border=\"1\" class=\"dataframe\">\n",
       "  <thead>\n",
       "    <tr style=\"text-align: right;\">\n",
       "      <th></th>\n",
       "      <th>program_duration</th>\n",
       "      <th>test_id</th>\n",
       "      <th>trainee_id</th>\n",
       "      <th>city_tier</th>\n",
       "      <th>age</th>\n",
       "      <th>total_programs_enrolled</th>\n",
       "      <th>trainee_engagement_rating</th>\n",
       "      <th>is_pass</th>\n",
       "    </tr>\n",
       "  </thead>\n",
       "  <tbody>\n",
       "    <tr>\n",
       "      <th>count</th>\n",
       "      <td>73147.000000</td>\n",
       "      <td>73147.000000</td>\n",
       "      <td>73147.000000</td>\n",
       "      <td>73147.000000</td>\n",
       "      <td>45418.000000</td>\n",
       "      <td>73147.000000</td>\n",
       "      <td>73070.000000</td>\n",
       "      <td>73147.000000</td>\n",
       "    </tr>\n",
       "    <tr>\n",
       "      <th>mean</th>\n",
       "      <td>128.208676</td>\n",
       "      <td>91.079306</td>\n",
       "      <td>9843.079620</td>\n",
       "      <td>2.246845</td>\n",
       "      <td>36.494033</td>\n",
       "      <td>2.583934</td>\n",
       "      <td>2.395634</td>\n",
       "      <td>0.695408</td>\n",
       "    </tr>\n",
       "    <tr>\n",
       "      <th>std</th>\n",
       "      <td>6.889679</td>\n",
       "      <td>51.239048</td>\n",
       "      <td>5703.556093</td>\n",
       "      <td>1.011587</td>\n",
       "      <td>9.041119</td>\n",
       "      <td>1.240816</td>\n",
       "      <td>1.325288</td>\n",
       "      <td>0.460238</td>\n",
       "    </tr>\n",
       "    <tr>\n",
       "      <th>min</th>\n",
       "      <td>117.000000</td>\n",
       "      <td>0.000000</td>\n",
       "      <td>1.000000</td>\n",
       "      <td>1.000000</td>\n",
       "      <td>17.000000</td>\n",
       "      <td>1.000000</td>\n",
       "      <td>1.000000</td>\n",
       "      <td>0.000000</td>\n",
       "    </tr>\n",
       "    <tr>\n",
       "      <th>25%</th>\n",
       "      <td>121.000000</td>\n",
       "      <td>45.000000</td>\n",
       "      <td>5040.000000</td>\n",
       "      <td>1.000000</td>\n",
       "      <td>28.000000</td>\n",
       "      <td>2.000000</td>\n",
       "      <td>1.000000</td>\n",
       "      <td>0.000000</td>\n",
       "    </tr>\n",
       "    <tr>\n",
       "      <th>50%</th>\n",
       "      <td>131.000000</td>\n",
       "      <td>90.000000</td>\n",
       "      <td>9641.000000</td>\n",
       "      <td>2.000000</td>\n",
       "      <td>39.000000</td>\n",
       "      <td>2.000000</td>\n",
       "      <td>2.000000</td>\n",
       "      <td>1.000000</td>\n",
       "    </tr>\n",
       "    <tr>\n",
       "      <th>75%</th>\n",
       "      <td>134.000000</td>\n",
       "      <td>135.000000</td>\n",
       "      <td>14552.000000</td>\n",
       "      <td>3.000000</td>\n",
       "      <td>45.000000</td>\n",
       "      <td>3.000000</td>\n",
       "      <td>4.000000</td>\n",
       "      <td>1.000000</td>\n",
       "    </tr>\n",
       "    <tr>\n",
       "      <th>max</th>\n",
       "      <td>136.000000</td>\n",
       "      <td>187.000000</td>\n",
       "      <td>20098.000000</td>\n",
       "      <td>4.000000</td>\n",
       "      <td>63.000000</td>\n",
       "      <td>14.000000</td>\n",
       "      <td>5.000000</td>\n",
       "      <td>1.000000</td>\n",
       "    </tr>\n",
       "  </tbody>\n",
       "</table>\n",
       "</div>"
      ],
      "text/plain": [
       "       program_duration       test_id    trainee_id     city_tier  \\\n",
       "count      73147.000000  73147.000000  73147.000000  73147.000000   \n",
       "mean         128.208676     91.079306   9843.079620      2.246845   \n",
       "std            6.889679     51.239048   5703.556093      1.011587   \n",
       "min          117.000000      0.000000      1.000000      1.000000   \n",
       "25%          121.000000     45.000000   5040.000000      1.000000   \n",
       "50%          131.000000     90.000000   9641.000000      2.000000   \n",
       "75%          134.000000    135.000000  14552.000000      3.000000   \n",
       "max          136.000000    187.000000  20098.000000      4.000000   \n",
       "\n",
       "                age  total_programs_enrolled  trainee_engagement_rating  \\\n",
       "count  45418.000000             73147.000000               73070.000000   \n",
       "mean      36.494033                 2.583934                   2.395634   \n",
       "std        9.041119                 1.240816                   1.325288   \n",
       "min       17.000000                 1.000000                   1.000000   \n",
       "25%       28.000000                 2.000000                   1.000000   \n",
       "50%       39.000000                 2.000000                   2.000000   \n",
       "75%       45.000000                 3.000000                   4.000000   \n",
       "max       63.000000                14.000000                   5.000000   \n",
       "\n",
       "            is_pass  \n",
       "count  73147.000000  \n",
       "mean       0.695408  \n",
       "std        0.460238  \n",
       "min        0.000000  \n",
       "25%        0.000000  \n",
       "50%        1.000000  \n",
       "75%        1.000000  \n",
       "max        1.000000  "
      ]
     },
     "execution_count": 34,
     "metadata": {},
     "output_type": "execute_result"
    }
   ],
   "source": [
    "df_train.describe()"
   ]
  },
  {
   "cell_type": "code",
   "execution_count": 41,
   "metadata": {},
   "outputs": [
    {
     "name": "stdout",
     "output_type": "stream",
     "text": [
      "No. of 1s and 0s in is_class target label\n",
      "-----------------------------------------\n",
      "1    0.695408\n",
      "0    0.304592\n",
      "Name: is_pass, dtype: float64\n"
     ]
    },
    {
     "data": {
      "text/plain": [
       "<matplotlib.axes._subplots.AxesSubplot at 0x7f6b8f504490>"
      ]
     },
     "execution_count": 41,
     "metadata": {},
     "output_type": "execute_result"
    },
    {
     "data": {
      "image/png": "[encoded data removed]",
      "text/plain": [
       "<Figure size 432x288 with 1 Axes>"
      ]
     },
     "metadata": {
      "needs_background": "light"
     },
     "output_type": "display_data"
    }
   ],
   "source": [
    "## is the Target(is_pass) is Imbalance? We will answer it here.\n",
    "print('No. of 1s and 0s in is_class target label')\n",
    "print('-----------------------------------------')\n",
    "print(df_train.is_pass.value_counts(normalize=True))\n",
    "##let's plot it\n",
    "sns.countplot(df_train.is_pass)"
   ]
  },
  {
   "cell_type": "markdown",
   "metadata": {},
   "source": [
    "The class is bit imbalance as we can 69% includes class 1 while 31% includes class 0.\n",
    "We will try to handle this imbalance "
   ]
  },
  {
   "cell_type": "code",
   "execution_count": 130,
   "metadata": {},
   "outputs": [
    {
     "name": "stdout",
     "output_type": "stream",
     "text": [
      "Trainee_engagement_rating(includes:-1,2,3,4 & 5)\n",
      "-----------------------------------------------\n",
      "1.0    25595\n",
      "2.0    17234\n",
      "4.0    13113\n",
      "3.0    11553\n",
      "5.0     5575\n",
      "Name: trainee_engagement_rating, dtype: int64\n",
      "Nan Values => 77\n"
     ]
    },
    {
     "data": {
      "text/plain": [
       "<matplotlib.axes._subplots.AxesSubplot at 0x7f6b83e2a9d0>"
      ]
     },
     "execution_count": 130,
     "metadata": {},
     "output_type": "execute_result"
    },
    {
     "data": {
      "image/png": "[encoded data removed]",
      "text/plain": [
       "<Figure size 432x288 with 1 Axes>"
      ]
     },
     "metadata": {
      "needs_background": "light"
     },
     "output_type": "display_data"
    }
   ],
   "source": [
    "print('Trainee_engagement_rating(includes:-1,2,3,4 & 5)')\n",
    "print('-----------------------------------------------')\n",
    "print(df_train.trainee_engagement_rating.value_counts())\n",
    "print('Nan Values','=>',len(df_train[df_train.trainee_engagement_rating.isna()]))\n",
    "#let's plot\n",
    "sns.countplot(df_train.trainee_engagement_rating)"
   ]
  },
  {
   "cell_type": "code",
   "execution_count": 71,
   "metadata": {},
   "outputs": [
    {
     "name": "stdout",
     "output_type": "stream",
     "text": [
      "categorical plot on the basis of pass with respect to the engagement ratings\n",
      "----------------------------------------------------------------------------\n"
     ]
    },
    {
     "data": {
      "text/plain": [
       "<seaborn.axisgrid.FacetGrid at 0x7f6b8c683310>"
      ]
     },
     "execution_count": 71,
     "metadata": {},
     "output_type": "execute_result"
    },
    {
     "data": {
      "image/png": "[encoded data removed]",
      "text/plain": [
       "<Figure size 720x360 with 2 Axes>"
      ]
     },
     "metadata": {
      "needs_background": "light"
     },
     "output_type": "display_data"
    }
   ],
   "source": [
    "print('categorical plot on the basis of pass with respect to the engagement ratings')\n",
    "\n",
    "print('----------------------------------------------------------------------------')\n",
    "\n",
    "sns.catplot(x='trainee_engagement_rating',data=df_train[['trainee_engagement_rating','is_pass']],col='is_pass',kind='count')"
   ]
  },
  {
   "cell_type": "code",
   "execution_count": 78,
   "metadata": {},
   "outputs": [
    {
     "name": "stdout",
     "output_type": "stream",
     "text": [
      "percentage of total_program_enrolled(values represent count of no of programs enrolled)\n",
      "------------------------------------\n"
     ]
    },
    {
     "data": {
      "text/plain": [
       "2     55.419908\n",
       "4     18.484695\n",
       "3     10.461126\n",
       "1     10.283402\n",
       "5      2.330923\n",
       "6      1.993246\n",
       "8      0.410133\n",
       "7      0.390993\n",
       "9      0.108002\n",
       "10     0.041013\n",
       "12     0.038279\n",
       "11     0.020507\n",
       "14     0.017772\n",
       "Name: total_programs_enrolled, dtype: float64"
      ]
     },
     "execution_count": 78,
     "metadata": {},
     "output_type": "execute_result"
    }
   ],
   "source": [
    "print('percentage of total_program_enrolled(values represent count of no of programs enrolled)')\n",
    "print('------------------------------------')\n",
    "df_train.total_programs_enrolled.value_counts(normalize=True)*100"
   ]
  },
  {
   "cell_type": "code",
   "execution_count": 91,
   "metadata": {},
   "outputs": [
    {
     "name": "stdout",
     "output_type": "stream",
     "text": [
      "N    91.018087\n",
      "Y     8.981913\n",
      "Name: is_handicapped, dtype: float64\n",
      "        in %\n",
      "--------------------------------------------------\n"
     ]
    },
    {
     "data": {
      "text/plain": [
       "<seaborn.axisgrid.FacetGrid at 0x7f6b863edbd0>"
      ]
     },
     "execution_count": 91,
     "metadata": {},
     "output_type": "execute_result"
    },
    {
     "data": {
      "image/png": "[encoded data removed]",
      "text/plain": [
       "<Figure size 864x432 with 2 Axes>"
      ]
     },
     "metadata": {
      "needs_background": "light"
     },
     "output_type": "display_data"
    }
   ],
   "source": [
    "print(df_train.is_handicapped.value_counts(normalize=True)*100)\n",
    "print('        in %')\n",
    "print('--------------------------------------------------')\n",
    "sns.catplot(x=\"is_pass\",col='is_handicapped',data=df_train,height=6, kind=\"count\")"
   ]
  },
  {
   "cell_type": "code",
   "execution_count": 107,
   "metadata": {},
   "outputs": [
    {
     "name": "stdout",
     "output_type": "stream",
     "text": [
      "City Tire\n",
      "---------\n",
      "3    35.846993\n",
      "1    31.633560\n",
      "2    22.283894\n",
      "4    10.235553\n",
      "Name: city_tier, dtype: float64\n",
      "--|--|--|--|--|--|--\n",
      "--------------------\n",
      "--|--|--|--|--|--|--\n",
      "Education\n",
      "---------\n",
      "High School Diploma    46.988940\n",
      "Matriculation          35.775903\n",
      "Bachelors              15.832502\n",
      "No Qualification        0.702695\n",
      "Masters                 0.699960\n",
      "Name: education, dtype: float64\n"
     ]
    }
   ],
   "source": [
    "print('City Tire')\n",
    "print('---------')\n",
    "print(df_train.city_tier.value_counts(normalize=True)*100)\n",
    "print('--|--|--|--|--|--|--')\n",
    "print('--------------------')\n",
    "print('--|--|--|--|--|--|--')\n",
    "print('Education')\n",
    "print('---------')\n",
    "print(df_train.education.value_counts(normalize=True)*100)"
   ]
  },
  {
   "cell_type": "code",
   "execution_count": 118,
   "metadata": {},
   "outputs": [
    {
     "data": {
      "text/plain": [
       "(<seaborn.axisgrid.FacetGrid at 0x7f6b842a00d0>,)"
      ]
     },
     "execution_count": 118,
     "metadata": {},
     "output_type": "execute_result"
    },
    {
     "data": {
      "image/png": "[encoded data removed]",
      "text/plain": [
       "<Figure size 1728x432 with 4 Axes>"
      ]
     },
     "metadata": {
      "needs_background": "light"
     },
     "output_type": "display_data"
    },
    {
     "data": {
      "image/png": "[encoded data removed]",
      "text/plain": [
       "<Figure size 2160x432 with 5 Axes>"
      ]
     },
     "metadata": {
      "needs_background": "light"
     },
     "output_type": "display_data"
    }
   ],
   "source": [
    "sns.catplot(x=\"is_pass\",col='city_tier',data=df_train,height=6, kind=\"count\")\n",
    "sns.catplot(x=\"is_pass\",col='education',data=df_train,height=6, kind=\"count\"),"
   ]
  },
  {
   "cell_type": "code",
   "execution_count": 131,
   "metadata": {
    "scrolled": true
   },
   "outputs": [
    {
     "data": {
      "text/plain": [
       "M    39043\n",
       "F    34104\n",
       "Name: gender, dtype: int64"
      ]
     },
     "execution_count": 131,
     "metadata": {},
     "output_type": "execute_result"
    }
   ],
   "source": [
    "df_train.gender.value_counts()"
   ]
  },
  {
   "cell_type": "code",
   "execution_count": 128,
   "metadata": {},
   "outputs": [
    {
     "data": {
      "text/plain": [
       "27729"
      ]
     },
     "execution_count": 128,
     "metadata": {},
     "output_type": "execute_result"
    }
   ],
   "source": [
    "df_train[df_train.age.isna()].age\n",
    "len(df_train[df_train.age.isna()].age)"
   ]
  },
  {
   "cell_type": "code",
   "execution_count": 93,
   "metadata": {},
   "outputs": [
    {
     "data": {
      "text/html": [
       "<div>\n",
       "<style scoped>\n",
       "    .dataframe tbody tr th:only-of-type {\n",
       "        vertical-align: middle;\n",
       "    }\n",
       "\n",
       "    .dataframe tbody tr th {\n",
       "        vertical-align: top;\n",
       "    }\n",
       "\n",
       "    .dataframe thead th {\n",
       "        text-align: right;\n",
       "    }\n",
       "</style>\n",
       "<table border=\"1\" class=\"dataframe\">\n",
       "  <thead>\n",
       "    <tr style=\"text-align: right;\">\n",
       "      <th></th>\n",
       "      <th>id</th>\n",
       "      <th>program_id</th>\n",
       "      <th>program_type</th>\n",
       "      <th>program_duration</th>\n",
       "      <th>test_id</th>\n",
       "      <th>test_type</th>\n",
       "      <th>difficulty_level</th>\n",
       "      <th>trainee_id</th>\n",
       "      <th>gender</th>\n",
       "      <th>education</th>\n",
       "      <th>city_tier</th>\n",
       "      <th>age</th>\n",
       "      <th>total_programs_enrolled</th>\n",
       "      <th>is_handicapped</th>\n",
       "      <th>trainee_engagement_rating</th>\n",
       "      <th>is_pass</th>\n",
       "    </tr>\n",
       "  </thead>\n",
       "  <tbody>\n",
       "    <tr>\n",
       "      <th>0</th>\n",
       "      <td>9389_150</td>\n",
       "      <td>Y_1</td>\n",
       "      <td>Y</td>\n",
       "      <td>136</td>\n",
       "      <td>150</td>\n",
       "      <td>offline</td>\n",
       "      <td>intermediate</td>\n",
       "      <td>9389</td>\n",
       "      <td>M</td>\n",
       "      <td>Matriculation</td>\n",
       "      <td>3</td>\n",
       "      <td>24.0</td>\n",
       "      <td>5</td>\n",
       "      <td>N</td>\n",
       "      <td>1.0</td>\n",
       "      <td>0</td>\n",
       "    </tr>\n",
       "    <tr>\n",
       "      <th>1</th>\n",
       "      <td>16523_44</td>\n",
       "      <td>T_1</td>\n",
       "      <td>T</td>\n",
       "      <td>131</td>\n",
       "      <td>44</td>\n",
       "      <td>offline</td>\n",
       "      <td>easy</td>\n",
       "      <td>16523</td>\n",
       "      <td>F</td>\n",
       "      <td>High School Diploma</td>\n",
       "      <td>4</td>\n",
       "      <td>26.0</td>\n",
       "      <td>2</td>\n",
       "      <td>N</td>\n",
       "      <td>3.0</td>\n",
       "      <td>1</td>\n",
       "    </tr>\n",
       "    <tr>\n",
       "      <th>2</th>\n",
       "      <td>13987_178</td>\n",
       "      <td>Z_2</td>\n",
       "      <td>Z</td>\n",
       "      <td>120</td>\n",
       "      <td>178</td>\n",
       "      <td>online</td>\n",
       "      <td>easy</td>\n",
       "      <td>13987</td>\n",
       "      <td>M</td>\n",
       "      <td>Matriculation</td>\n",
       "      <td>1</td>\n",
       "      <td>40.0</td>\n",
       "      <td>1</td>\n",
       "      <td>N</td>\n",
       "      <td>2.0</td>\n",
       "      <td>1</td>\n",
       "    </tr>\n",
       "    <tr>\n",
       "      <th>3</th>\n",
       "      <td>13158_32</td>\n",
       "      <td>T_2</td>\n",
       "      <td>T</td>\n",
       "      <td>117</td>\n",
       "      <td>32</td>\n",
       "      <td>offline</td>\n",
       "      <td>easy</td>\n",
       "      <td>13158</td>\n",
       "      <td>F</td>\n",
       "      <td>Matriculation</td>\n",
       "      <td>3</td>\n",
       "      <td>NaN</td>\n",
       "      <td>4</td>\n",
       "      <td>N</td>\n",
       "      <td>1.0</td>\n",
       "      <td>1</td>\n",
       "    </tr>\n",
       "    <tr>\n",
       "      <th>4</th>\n",
       "      <td>10591_84</td>\n",
       "      <td>V_3</td>\n",
       "      <td>V</td>\n",
       "      <td>131</td>\n",
       "      <td>84</td>\n",
       "      <td>offline</td>\n",
       "      <td>intermediate</td>\n",
       "      <td>10591</td>\n",
       "      <td>F</td>\n",
       "      <td>High School Diploma</td>\n",
       "      <td>1</td>\n",
       "      <td>42.0</td>\n",
       "      <td>2</td>\n",
       "      <td>N</td>\n",
       "      <td>4.0</td>\n",
       "      <td>1</td>\n",
       "    </tr>\n",
       "  </tbody>\n",
       "</table>\n",
       "</div>"
      ],
      "text/plain": [
       "          id program_id program_type  program_duration  test_id test_type  \\\n",
       "0   9389_150        Y_1            Y               136      150   offline   \n",
       "1   16523_44        T_1            T               131       44   offline   \n",
       "2  13987_178        Z_2            Z               120      178    online   \n",
       "3   13158_32        T_2            T               117       32   offline   \n",
       "4   10591_84        V_3            V               131       84   offline   \n",
       "\n",
       "  difficulty_level  trainee_id gender            education  city_tier   age  \\\n",
       "0     intermediate        9389      M        Matriculation          3  24.0   \n",
       "1             easy       16523      F  High School Diploma          4  26.0   \n",
       "2             easy       13987      M        Matriculation          1  40.0   \n",
       "3             easy       13158      F        Matriculation          3   NaN   \n",
       "4     intermediate       10591      F  High School Diploma          1  42.0   \n",
       "\n",
       "   total_programs_enrolled is_handicapped  trainee_engagement_rating  is_pass  \n",
       "0                        5              N                        1.0        0  \n",
       "1                        2              N                        3.0        1  \n",
       "2                        1              N                        2.0        1  \n",
       "3                        4              N                        1.0        1  \n",
       "4                        2              N                        4.0        1  "
      ]
     },
     "execution_count": 93,
     "metadata": {},
     "output_type": "execute_result"
    }
   ],
   "source": [
    "df_train.head()"
   ]
  },
  {
   "cell_type": "code",
   "execution_count": 132,
   "metadata": {},
   "outputs": [],
   "source": [
    "## fillnan values in age and trainee employement"
   ]
  },
  {
   "cell_type": "code",
   "execution_count": 137,
   "metadata": {},
   "outputs": [],
   "source": [
    "corr=df_train.corr()"
   ]
  },
  {
   "cell_type": "markdown",
   "metadata": {},
   "source": [
    "We could see that there is small correlation is present between is_pass and other features(excluding trainee id and testid)"
   ]
  },
  {
   "cell_type": "code",
   "execution_count": 138,
   "metadata": {},
   "outputs": [
    {
     "data": {
      "text/plain": [
       "<matplotlib.axes._subplots.AxesSubplot at 0x7f6b83cf0cd0>"
      ]
     },
     "execution_count": 138,
     "metadata": {},
     "output_type": "execute_result"
    },
    {
     "data": {
      "image/png": "[encoded data removed]",
      "text/plain": [
       "<Figure size 648x576 with 2 Axes>"
      ]
     },
     "metadata": {
      "needs_background": "light"
     },
     "output_type": "display_data"
    }
   ],
   "source": [
    "f, ax = plt.subplots(figsize =(9, 8)) \n",
    "sns.heatmap(corr, ax = ax, cmap =\"YlGnBu\", linewidths = 0.1) \n"
   ]
  },
  {
   "cell_type": "markdown",
   "metadata": {},
   "source": [
    "What is the range of students who have passed?"
   ]
  },
  {
   "cell_type": "code",
   "execution_count": 181,
   "metadata": {},
   "outputs": [
    {
     "name": "stdout",
     "output_type": "stream",
     "text": [
      "1    19342\n",
      "0     8387\n",
      "Name: is_pass, dtype: int64\n",
      "Nan age who has passed or failed count\n",
      "---------------------------------------\n",
      "       age  is_pass\n",
      "3      NaN        1\n",
      "8      NaN        1\n",
      "10     NaN        1\n",
      "11     NaN        1\n",
      "12     NaN        1\n",
      "...    ...      ...\n",
      "73137  NaN        1\n",
      "73140  NaN        1\n",
      "73141  NaN        1\n",
      "73142  NaN        1\n",
      "73144  NaN        1\n",
      "\n",
      "[19342 rows x 2 columns]\n",
      "19342 counts NaN age who are passed \n",
      "----------------------------------------\n",
      "       age  is_pass\n",
      "25     NaN        0\n",
      "53     NaN        0\n",
      "54     NaN        0\n",
      "56     NaN        0\n",
      "82     NaN        0\n",
      "...    ...      ...\n",
      "73090  NaN        0\n",
      "73095  NaN        0\n",
      "73113  NaN        0\n",
      "73118  NaN        0\n",
      "73130  NaN        0\n",
      "\n",
      "[8387 rows x 2 columns]\n",
      "8387 counts NaN age who have failed \n"
     ]
    },
    {
     "name": "stderr",
     "output_type": "stream",
     "text": [
      "/home/deba/anaconda3/envs/db/lib/python3.7/site-packages/ipykernel_launcher.py:5: UserWarning: Boolean Series key will be reindexed to match DataFrame index.\n",
      "  \"\"\"\n",
      "/home/deba/anaconda3/envs/db/lib/python3.7/site-packages/ipykernel_launcher.py:8: UserWarning: Boolean Series key will be reindexed to match DataFrame index.\n",
      "  \n"
     ]
    }
   ],
   "source": [
    "x=df_train[['age','is_pass']]\n",
    "print(x[x.age.isna()].is_pass.value_counts())\n",
    "print('Nan age who has passed or failed count')\n",
    "print('---------------------------------------')\n",
    "print(x[x.is_pass==1][x.age.isna()])\n",
    "print('19342 counts NaN age who are passed ')\n",
    "print('----------------------------------------')\n",
    "print(x[x.is_pass==0][x.age.isna()])\n",
    "print('8387 counts NaN age who have failed')"
   ]
  },
  {
   "cell_type": "markdown",
   "metadata": {},
   "source": [
    "We cant determine now as the nanvalues between 1 and 0 is divided nearly equal"
   ]
  },
  {
   "cell_type": "code",
   "execution_count": 191,
   "metadata": {},
   "outputs": [
    {
     "name": "stdout",
     "output_type": "stream",
     "text": [
      "1    17\n",
      "0    14\n",
      "Name: is_pass, dtype: int64\n"
     ]
    },
    {
     "name": "stderr",
     "output_type": "stream",
     "text": [
      "/home/deba/anaconda3/envs/db/lib/python3.7/site-packages/ipykernel_launcher.py:3: UserWarning: Boolean Series key will be reindexed to match DataFrame index.\n",
      "  This is separate from the ipykernel package so we can avoid doing imports until\n"
     ]
    },
    {
     "data": {
      "text/plain": [
       "0    39\n",
       "1    38\n",
       "Name: is_pass, dtype: int64"
      ]
     },
     "execution_count": 191,
     "metadata": {},
     "output_type": "execute_result"
    }
   ],
   "source": [
    "x=df_train[['age','is_pass','trainee_engagement_rating']]\n",
    "x.isna().any()\n",
    "print(x[x.trainee_engagement_rating.isna()][x.age.isna()].is_pass.value_counts())\n",
    "x[x.trainee_engagement_rating.isna()].is_pass.value_counts()"
   ]
  },
  {
   "cell_type": "markdown",
   "metadata": {},
   "source": [
    "We filled the age with 27 by comparing with the education"
   ]
  },
  {
   "cell_type": "code",
   "execution_count": 207,
   "metadata": {},
   "outputs": [
    {
     "name": "stdout",
     "output_type": "stream",
     "text": [
      "High School Diploma    14337\n",
      "Matriculation           9652\n",
      "Bachelors               3431\n",
      "No Qualification         241\n",
      "Masters                   68\n",
      "Name: education, dtype: int64\n",
      "27.0    1593\n",
      "28.0    1545\n",
      "45.0    1512\n",
      "29.0    1422\n",
      "44.0    1399\n",
      "46.0    1202\n",
      "43.0    1179\n",
      "26.0    1172\n",
      "30.0    1106\n",
      "25.0     933\n",
      "31.0     881\n",
      "42.0     821\n",
      "47.0     763\n",
      "24.0     675\n",
      "41.0     519\n",
      "32.0     479\n",
      "48.0     391\n",
      "23.0     367\n",
      "33.0     280\n",
      "49.0     264\n",
      "40.0     239\n",
      "22.0     196\n",
      "34.0     146\n",
      "21.0     132\n",
      "39.0     127\n",
      "50.0     111\n",
      "35.0      95\n",
      "37.0      61\n",
      "38.0      61\n",
      "51.0      59\n",
      "57.0      48\n",
      "56.0      46\n",
      "36.0      45\n",
      "20.0      40\n",
      "19.0      24\n",
      "52.0      23\n",
      "58.0      20\n",
      "18.0      16\n",
      "17.0      15\n",
      "53.0      12\n",
      "55.0       6\n",
      "54.0       5\n",
      "59.0       4\n",
      "Name: age, dtype: int64\n"
     ]
    }
   ],
   "source": [
    "print(df_train[['education','age']][df_train.age.isna()].education.value_counts())\n",
    "print(df_train[['education','age']][df_train.education=='High School Diploma'].age.value_counts())\n",
    "df_train.age.fillna(27.0,inplace=True)"
   ]
  },
  {
   "cell_type": "code",
   "execution_count": 211,
   "metadata": {},
   "outputs": [
    {
     "data": {
      "text/html": [
       "<div>\n",
       "<style scoped>\n",
       "    .dataframe tbody tr th:only-of-type {\n",
       "        vertical-align: middle;\n",
       "    }\n",
       "\n",
       "    .dataframe tbody tr th {\n",
       "        vertical-align: top;\n",
       "    }\n",
       "\n",
       "    .dataframe thead th {\n",
       "        text-align: right;\n",
       "    }\n",
       "</style>\n",
       "<table border=\"1\" class=\"dataframe\">\n",
       "  <thead>\n",
       "    <tr style=\"text-align: right;\">\n",
       "      <th></th>\n",
       "      <th>age</th>\n",
       "      <th>is_pass</th>\n",
       "    </tr>\n",
       "  </thead>\n",
       "  <tbody>\n",
       "    <tr>\n",
       "      <th>623</th>\n",
       "      <td>43.0</td>\n",
       "      <td>0</td>\n",
       "    </tr>\n",
       "    <tr>\n",
       "      <th>990</th>\n",
       "      <td>43.0</td>\n",
       "      <td>0</td>\n",
       "    </tr>\n",
       "    <tr>\n",
       "      <th>3051</th>\n",
       "      <td>27.0</td>\n",
       "      <td>1</td>\n",
       "    </tr>\n",
       "    <tr>\n",
       "      <th>3463</th>\n",
       "      <td>45.0</td>\n",
       "      <td>0</td>\n",
       "    </tr>\n",
       "    <tr>\n",
       "      <th>4320</th>\n",
       "      <td>26.0</td>\n",
       "      <td>1</td>\n",
       "    </tr>\n",
       "    <tr>\n",
       "      <th>...</th>\n",
       "      <td>...</td>\n",
       "      <td>...</td>\n",
       "    </tr>\n",
       "    <tr>\n",
       "      <th>67195</th>\n",
       "      <td>42.0</td>\n",
       "      <td>0</td>\n",
       "    </tr>\n",
       "    <tr>\n",
       "      <th>68908</th>\n",
       "      <td>27.0</td>\n",
       "      <td>0</td>\n",
       "    </tr>\n",
       "    <tr>\n",
       "      <th>69068</th>\n",
       "      <td>22.0</td>\n",
       "      <td>1</td>\n",
       "    </tr>\n",
       "    <tr>\n",
       "      <th>71699</th>\n",
       "      <td>33.0</td>\n",
       "      <td>0</td>\n",
       "    </tr>\n",
       "    <tr>\n",
       "      <th>72091</th>\n",
       "      <td>27.0</td>\n",
       "      <td>1</td>\n",
       "    </tr>\n",
       "  </tbody>\n",
       "</table>\n",
       "<p>77 rows × 2 columns</p>\n",
       "</div>"
      ],
      "text/plain": [
       "        age  is_pass\n",
       "623    43.0        0\n",
       "990    43.0        0\n",
       "3051   27.0        1\n",
       "3463   45.0        0\n",
       "4320   26.0        1\n",
       "...     ...      ...\n",
       "67195  42.0        0\n",
       "68908  27.0        0\n",
       "69068  22.0        1\n",
       "71699  33.0        0\n",
       "72091  27.0        1\n",
       "\n",
       "[77 rows x 2 columns]"
      ]
     },
     "execution_count": 211,
     "metadata": {},
     "output_type": "execute_result"
    }
   ],
   "source": [
    "x=df_train[['age','is_pass','trainee_engagement_rating']]\n",
    "x[x.trainee_engagement_rating.isna()][['age','is_pass']]"
   ]
  },
  {
   "cell_type": "code",
   "execution_count": 219,
   "metadata": {},
   "outputs": [
    {
     "name": "stderr",
     "output_type": "stream",
     "text": [
      "/home/deba/anaconda3/envs/db/lib/python3.7/site-packages/ipykernel_launcher.py:1: UserWarning: Boolean Series key will be reindexed to match DataFrame index.\n",
      "  \"\"\"Entry point for launching an IPython kernel.\n",
      "/home/deba/anaconda3/envs/db/lib/python3.7/site-packages/ipykernel_launcher.py:2: UserWarning: Boolean Series key will be reindexed to match DataFrame index.\n",
      "  \n"
     ]
    },
    {
     "data": {
      "text/plain": [
       "<matplotlib.axes._subplots.AxesSubplot at 0x7f6b835d92d0>"
      ]
     },
     "execution_count": 219,
     "metadata": {},
     "output_type": "execute_result"
    },
    {
     "data": {
      "image/png": "[encoded data removed]",
      "text/plain": [
       "<Figure size 432x288 with 1 Axes>"
      ]
     },
     "metadata": {
      "needs_background": "light"
     },
     "output_type": "display_data"
    }
   ],
   "source": [
    "sns.distplot(x[x.trainee_engagement_rating.isna()][['age','is_pass']][x.is_pass==0].age,color='y')\n",
    "sns.distplot(x[x.trainee_engagement_rating.isna()][['age','is_pass']][x.is_pass==1].age,color='g')"
   ]
  },
  {
   "cell_type": "code",
   "execution_count": 229,
   "metadata": {},
   "outputs": [
    {
     "name": "stderr",
     "output_type": "stream",
     "text": [
      "/home/deba/anaconda3/envs/db/lib/python3.7/site-packages/ipykernel_launcher.py:1: UserWarning: Boolean Series key will be reindexed to match DataFrame index.\n",
      "  \"\"\"Entry point for launching an IPython kernel.\n"
     ]
    },
    {
     "data": {
      "text/plain": [
       "1.0    8581\n",
       "2.0    6659\n",
       "4.0    6031\n",
       "3.0    4842\n",
       "5.0    2170\n",
       "Name: trainee_engagement_rating, dtype: int64"
      ]
     },
     "execution_count": 229,
     "metadata": {},
     "output_type": "execute_result"
    }
   ],
   "source": [
    "x[x.age>=25][x.age<30][x.is_pass==1].trainee_engagement_rating.value_counts()"
   ]
  },
  {
   "cell_type": "code",
   "execution_count": 230,
   "metadata": {},
   "outputs": [],
   "source": [
    "df_train['trainee_engagement_rating'].fillna(1,inplace=True)"
   ]
  },
  {
   "cell_type": "code",
   "execution_count": 231,
   "metadata": {},
   "outputs": [
    {
     "data": {
      "text/plain": [
       "id                           False\n",
       "program_id                   False\n",
       "program_type                 False\n",
       "program_duration             False\n",
       "test_id                      False\n",
       "test_type                    False\n",
       "difficulty_level             False\n",
       "trainee_id                   False\n",
       "gender                       False\n",
       "education                    False\n",
       "city_tier                    False\n",
       "age                          False\n",
       "total_programs_enrolled      False\n",
       "is_handicapped               False\n",
       "trainee_engagement_rating    False\n",
       "is_pass                      False\n",
       "dtype: bool"
      ]
     },
     "execution_count": 231,
     "metadata": {},
     "output_type": "execute_result"
    }
   ],
   "source": [
    "df_train.isna().any()"
   ]
  },
  {
   "cell_type": "code",
   "execution_count": 235,
   "metadata": {},
   "outputs": [
    {
     "data": {
      "text/html": [
       "<div>\n",
       "<style scoped>\n",
       "    .dataframe tbody tr th:only-of-type {\n",
       "        vertical-align: middle;\n",
       "    }\n",
       "\n",
       "    .dataframe tbody tr th {\n",
       "        vertical-align: top;\n",
       "    }\n",
       "\n",
       "    .dataframe thead th {\n",
       "        text-align: right;\n",
       "    }\n",
       "</style>\n",
       "<table border=\"1\" class=\"dataframe\">\n",
       "  <thead>\n",
       "    <tr style=\"text-align: right;\">\n",
       "      <th></th>\n",
       "      <th>program_id</th>\n",
       "      <th>is_pass</th>\n",
       "    </tr>\n",
       "  </thead>\n",
       "  <tbody>\n",
       "    <tr>\n",
       "      <th>0</th>\n",
       "      <td>Y_1</td>\n",
       "      <td>0</td>\n",
       "    </tr>\n",
       "    <tr>\n",
       "      <th>1</th>\n",
       "      <td>T_1</td>\n",
       "      <td>1</td>\n",
       "    </tr>\n",
       "    <tr>\n",
       "      <th>2</th>\n",
       "      <td>Z_2</td>\n",
       "      <td>1</td>\n",
       "    </tr>\n",
       "    <tr>\n",
       "      <th>3</th>\n",
       "      <td>T_2</td>\n",
       "      <td>1</td>\n",
       "    </tr>\n",
       "    <tr>\n",
       "      <th>4</th>\n",
       "      <td>V_3</td>\n",
       "      <td>1</td>\n",
       "    </tr>\n",
       "    <tr>\n",
       "      <th>...</th>\n",
       "      <td>...</td>\n",
       "      <td>...</td>\n",
       "    </tr>\n",
       "    <tr>\n",
       "      <th>73142</th>\n",
       "      <td>Z_3</td>\n",
       "      <td>1</td>\n",
       "    </tr>\n",
       "    <tr>\n",
       "      <th>73143</th>\n",
       "      <td>T_2</td>\n",
       "      <td>1</td>\n",
       "    </tr>\n",
       "    <tr>\n",
       "      <th>73144</th>\n",
       "      <td>Y_2</td>\n",
       "      <td>1</td>\n",
       "    </tr>\n",
       "    <tr>\n",
       "      <th>73145</th>\n",
       "      <td>V_3</td>\n",
       "      <td>1</td>\n",
       "    </tr>\n",
       "    <tr>\n",
       "      <th>73146</th>\n",
       "      <td>Y_4</td>\n",
       "      <td>1</td>\n",
       "    </tr>\n",
       "  </tbody>\n",
       "</table>\n",
       "<p>73147 rows × 2 columns</p>\n",
       "</div>"
      ],
      "text/plain": [
       "      program_id  is_pass\n",
       "0            Y_1        0\n",
       "1            T_1        1\n",
       "2            Z_2        1\n",
       "3            T_2        1\n",
       "4            V_3        1\n",
       "...          ...      ...\n",
       "73142        Z_3        1\n",
       "73143        T_2        1\n",
       "73144        Y_2        1\n",
       "73145        V_3        1\n",
       "73146        Y_4        1\n",
       "\n",
       "[73147 rows x 2 columns]"
      ]
     },
     "execution_count": 235,
     "metadata": {},
     "output_type": "execute_result"
    }
   ],
   "source": [
    "df_train[['program_id','is_pass']]"
   ]
  },
  {
   "cell_type": "code",
   "execution_count": null,
   "metadata": {},
   "outputs": [],
   "source": []
  },
  {
   "cell_type": "code",
   "execution_count": 233,
   "metadata": {
    "scrolled": true
   },
   "outputs": [
    {
     "data": {
      "text/html": [
       "<div>\n",
       "<style scoped>\n",
       "    .dataframe tbody tr th:only-of-type {\n",
       "        vertical-align: middle;\n",
       "    }\n",
       "\n",
       "    .dataframe tbody tr th {\n",
       "        vertical-align: top;\n",
       "    }\n",
       "\n",
       "    .dataframe thead th {\n",
       "        text-align: right;\n",
       "    }\n",
       "</style>\n",
       "<table border=\"1\" class=\"dataframe\">\n",
       "  <thead>\n",
       "    <tr style=\"text-align: right;\">\n",
       "      <th></th>\n",
       "      <th>id</th>\n",
       "      <th>program_id</th>\n",
       "      <th>program_type</th>\n",
       "      <th>program_duration</th>\n",
       "      <th>test_id</th>\n",
       "      <th>test_type</th>\n",
       "      <th>difficulty_level</th>\n",
       "      <th>trainee_id</th>\n",
       "      <th>gender</th>\n",
       "      <th>education</th>\n",
       "      <th>city_tier</th>\n",
       "      <th>age</th>\n",
       "      <th>total_programs_enrolled</th>\n",
       "      <th>is_handicapped</th>\n",
       "      <th>trainee_engagement_rating</th>\n",
       "      <th>is_pass</th>\n",
       "    </tr>\n",
       "  </thead>\n",
       "  <tbody>\n",
       "    <tr>\n",
       "      <th>0</th>\n",
       "      <td>9389_150</td>\n",
       "      <td>Y_1</td>\n",
       "      <td>Y</td>\n",
       "      <td>136</td>\n",
       "      <td>150</td>\n",
       "      <td>offline</td>\n",
       "      <td>intermediate</td>\n",
       "      <td>9389</td>\n",
       "      <td>M</td>\n",
       "      <td>Matriculation</td>\n",
       "      <td>3</td>\n",
       "      <td>24.0</td>\n",
       "      <td>5</td>\n",
       "      <td>N</td>\n",
       "      <td>1.0</td>\n",
       "      <td>0</td>\n",
       "    </tr>\n",
       "    <tr>\n",
       "      <th>1</th>\n",
       "      <td>16523_44</td>\n",
       "      <td>T_1</td>\n",
       "      <td>T</td>\n",
       "      <td>131</td>\n",
       "      <td>44</td>\n",
       "      <td>offline</td>\n",
       "      <td>easy</td>\n",
       "      <td>16523</td>\n",
       "      <td>F</td>\n",
       "      <td>High School Diploma</td>\n",
       "      <td>4</td>\n",
       "      <td>26.0</td>\n",
       "      <td>2</td>\n",
       "      <td>N</td>\n",
       "      <td>3.0</td>\n",
       "      <td>1</td>\n",
       "    </tr>\n",
       "    <tr>\n",
       "      <th>2</th>\n",
       "      <td>13987_178</td>\n",
       "      <td>Z_2</td>\n",
       "      <td>Z</td>\n",
       "      <td>120</td>\n",
       "      <td>178</td>\n",
       "      <td>online</td>\n",
       "      <td>easy</td>\n",
       "      <td>13987</td>\n",
       "      <td>M</td>\n",
       "      <td>Matriculation</td>\n",
       "      <td>1</td>\n",
       "      <td>40.0</td>\n",
       "      <td>1</td>\n",
       "      <td>N</td>\n",
       "      <td>2.0</td>\n",
       "      <td>1</td>\n",
       "    </tr>\n",
       "    <tr>\n",
       "      <th>3</th>\n",
       "      <td>13158_32</td>\n",
       "      <td>T_2</td>\n",
       "      <td>T</td>\n",
       "      <td>117</td>\n",
       "      <td>32</td>\n",
       "      <td>offline</td>\n",
       "      <td>easy</td>\n",
       "      <td>13158</td>\n",
       "      <td>F</td>\n",
       "      <td>Matriculation</td>\n",
       "      <td>3</td>\n",
       "      <td>27.0</td>\n",
       "      <td>4</td>\n",
       "      <td>N</td>\n",
       "      <td>1.0</td>\n",
       "      <td>1</td>\n",
       "    </tr>\n",
       "    <tr>\n",
       "      <th>4</th>\n",
       "      <td>10591_84</td>\n",
       "      <td>V_3</td>\n",
       "      <td>V</td>\n",
       "      <td>131</td>\n",
       "      <td>84</td>\n",
       "      <td>offline</td>\n",
       "      <td>intermediate</td>\n",
       "      <td>10591</td>\n",
       "      <td>F</td>\n",
       "      <td>High School Diploma</td>\n",
       "      <td>1</td>\n",
       "      <td>42.0</td>\n",
       "      <td>2</td>\n",
       "      <td>N</td>\n",
       "      <td>4.0</td>\n",
       "      <td>1</td>\n",
       "    </tr>\n",
       "  </tbody>\n",
       "</table>\n",
       "</div>"
      ],
      "text/plain": [
       "          id program_id program_type  program_duration  test_id test_type  \\\n",
       "0   9389_150        Y_1            Y               136      150   offline   \n",
       "1   16523_44        T_1            T               131       44   offline   \n",
       "2  13987_178        Z_2            Z               120      178    online   \n",
       "3   13158_32        T_2            T               117       32   offline   \n",
       "4   10591_84        V_3            V               131       84   offline   \n",
       "\n",
       "  difficulty_level  trainee_id gender            education  city_tier   age  \\\n",
       "0     intermediate        9389      M        Matriculation          3  24.0   \n",
       "1             easy       16523      F  High School Diploma          4  26.0   \n",
       "2             easy       13987      M        Matriculation          1  40.0   \n",
       "3             easy       13158      F        Matriculation          3  27.0   \n",
       "4     intermediate       10591      F  High School Diploma          1  42.0   \n",
       "\n",
       "   total_programs_enrolled is_handicapped  trainee_engagement_rating  is_pass  \n",
       "0                        5              N                        1.0        0  \n",
       "1                        2              N                        3.0        1  \n",
       "2                        1              N                        2.0        1  \n",
       "3                        4              N                        1.0        1  \n",
       "4                        2              N                        4.0        1  "
      ]
     },
     "execution_count": 233,
     "metadata": {},
     "output_type": "execute_result"
    }
   ],
   "source": [
    "df_train.head()"
   ]
  },
  {
   "cell_type": "code",
   "execution_count": null,
   "metadata": {},
   "outputs": [],
   "source": [
    "##test "
   ]
  },
  {
   "cell_type": "code",
   "execution_count": 236,
   "metadata": {},
   "outputs": [],
   "source": [
    "df=df_train.drop(columns=['id','program_id','program_type','test_id','trainee_id','id'])"
   ]
  },
  {
   "cell_type": "code",
   "execution_count": 241,
   "metadata": {},
   "outputs": [],
   "source": [
    "from sklearn.preprocessing import OneHotEncoder\n",
    "enc = OneHotEncoder(handle_unknown='ignore')"
   ]
  },
  {
   "cell_type": "code",
   "execution_count": 245,
   "metadata": {},
   "outputs": [],
   "source": [
    "##one hot enconding\n",
    "trial=df.select_dtypes(include='object')\n",
    "trial=enc.fit_transform(trial)"
   ]
  },
  {
   "cell_type": "code",
   "execution_count": 246,
   "metadata": {},
   "outputs": [
    {
     "data": {
      "text/plain": [
       "<73147x15 sparse matrix of type '<class 'numpy.float64'>'\n",
       "\twith 365735 stored elements in Compressed Sparse Row format>"
      ]
     },
     "execution_count": 246,
     "metadata": {},
     "output_type": "execute_result"
    }
   ],
   "source": [
    "trial"
   ]
  },
  {
   "cell_type": "code",
   "execution_count": 250,
   "metadata": {},
   "outputs": [
    {
     "data": {
      "text/plain": [
       "array(['x0_offline', 'x0_online', 'x1_easy', 'x1_hard', 'x1_intermediate',\n",
       "       'x1_vary hard', 'x2_F', 'x2_M', 'x3_Bachelors',\n",
       "       'x3_High School Diploma', 'x3_Masters', 'x3_Matriculation',\n",
       "       'x3_No Qualification', 'x4_N', 'x4_Y'], dtype=object)"
      ]
     },
     "execution_count": 250,
     "metadata": {},
     "output_type": "execute_result"
    }
   ],
   "source": [
    "enc.get_feature_names()"
   ]
  },
  {
   "cell_type": "code",
   "execution_count": 254,
   "metadata": {},
   "outputs": [
    {
     "data": {
      "text/plain": [
       "(73147, 15)"
      ]
     },
     "execution_count": 254,
     "metadata": {},
     "output_type": "execute_result"
    }
   ],
   "source": [
    "trial.toarray().shape"
   ]
  },
  {
   "cell_type": "code",
   "execution_count": 273,
   "metadata": {},
   "outputs": [],
   "source": [
    "#trial=pd.DataFrame(trial.toarray(),columns=enc.get_feature_names())"
   ]
  },
  {
   "cell_type": "code",
   "execution_count": 258,
   "metadata": {},
   "outputs": [
    {
     "data": {
      "text/html": [
       "<div>\n",
       "<style scoped>\n",
       "    .dataframe tbody tr th:only-of-type {\n",
       "        vertical-align: middle;\n",
       "    }\n",
       "\n",
       "    .dataframe tbody tr th {\n",
       "        vertical-align: top;\n",
       "    }\n",
       "\n",
       "    .dataframe thead th {\n",
       "        text-align: right;\n",
       "    }\n",
       "</style>\n",
       "<table border=\"1\" class=\"dataframe\">\n",
       "  <thead>\n",
       "    <tr style=\"text-align: right;\">\n",
       "      <th></th>\n",
       "      <th>program_duration</th>\n",
       "      <th>test_type</th>\n",
       "      <th>difficulty_level</th>\n",
       "      <th>gender</th>\n",
       "      <th>education</th>\n",
       "      <th>city_tier</th>\n",
       "      <th>age</th>\n",
       "      <th>total_programs_enrolled</th>\n",
       "      <th>is_handicapped</th>\n",
       "      <th>trainee_engagement_rating</th>\n",
       "      <th>is_pass</th>\n",
       "    </tr>\n",
       "  </thead>\n",
       "  <tbody>\n",
       "    <tr>\n",
       "      <th>0</th>\n",
       "      <td>136</td>\n",
       "      <td>offline</td>\n",
       "      <td>intermediate</td>\n",
       "      <td>M</td>\n",
       "      <td>Matriculation</td>\n",
       "      <td>3</td>\n",
       "      <td>24.0</td>\n",
       "      <td>5</td>\n",
       "      <td>N</td>\n",
       "      <td>1.0</td>\n",
       "      <td>0</td>\n",
       "    </tr>\n",
       "    <tr>\n",
       "      <th>1</th>\n",
       "      <td>131</td>\n",
       "      <td>offline</td>\n",
       "      <td>easy</td>\n",
       "      <td>F</td>\n",
       "      <td>High School Diploma</td>\n",
       "      <td>4</td>\n",
       "      <td>26.0</td>\n",
       "      <td>2</td>\n",
       "      <td>N</td>\n",
       "      <td>3.0</td>\n",
       "      <td>1</td>\n",
       "    </tr>\n",
       "    <tr>\n",
       "      <th>2</th>\n",
       "      <td>120</td>\n",
       "      <td>online</td>\n",
       "      <td>easy</td>\n",
       "      <td>M</td>\n",
       "      <td>Matriculation</td>\n",
       "      <td>1</td>\n",
       "      <td>40.0</td>\n",
       "      <td>1</td>\n",
       "      <td>N</td>\n",
       "      <td>2.0</td>\n",
       "      <td>1</td>\n",
       "    </tr>\n",
       "    <tr>\n",
       "      <th>3</th>\n",
       "      <td>117</td>\n",
       "      <td>offline</td>\n",
       "      <td>easy</td>\n",
       "      <td>F</td>\n",
       "      <td>Matriculation</td>\n",
       "      <td>3</td>\n",
       "      <td>27.0</td>\n",
       "      <td>4</td>\n",
       "      <td>N</td>\n",
       "      <td>1.0</td>\n",
       "      <td>1</td>\n",
       "    </tr>\n",
       "    <tr>\n",
       "      <th>4</th>\n",
       "      <td>131</td>\n",
       "      <td>offline</td>\n",
       "      <td>intermediate</td>\n",
       "      <td>F</td>\n",
       "      <td>High School Diploma</td>\n",
       "      <td>1</td>\n",
       "      <td>42.0</td>\n",
       "      <td>2</td>\n",
       "      <td>N</td>\n",
       "      <td>4.0</td>\n",
       "      <td>1</td>\n",
       "    </tr>\n",
       "    <tr>\n",
       "      <th>...</th>\n",
       "      <td>...</td>\n",
       "      <td>...</td>\n",
       "      <td>...</td>\n",
       "      <td>...</td>\n",
       "      <td>...</td>\n",
       "      <td>...</td>\n",
       "      <td>...</td>\n",
       "      <td>...</td>\n",
       "      <td>...</td>\n",
       "      <td>...</td>\n",
       "      <td>...</td>\n",
       "    </tr>\n",
       "    <tr>\n",
       "      <th>73142</th>\n",
       "      <td>130</td>\n",
       "      <td>offline</td>\n",
       "      <td>easy</td>\n",
       "      <td>F</td>\n",
       "      <td>High School Diploma</td>\n",
       "      <td>3</td>\n",
       "      <td>27.0</td>\n",
       "      <td>1</td>\n",
       "      <td>N</td>\n",
       "      <td>2.0</td>\n",
       "      <td>1</td>\n",
       "    </tr>\n",
       "    <tr>\n",
       "      <th>73143</th>\n",
       "      <td>117</td>\n",
       "      <td>online</td>\n",
       "      <td>easy</td>\n",
       "      <td>F</td>\n",
       "      <td>High School Diploma</td>\n",
       "      <td>2</td>\n",
       "      <td>45.0</td>\n",
       "      <td>2</td>\n",
       "      <td>N</td>\n",
       "      <td>2.0</td>\n",
       "      <td>1</td>\n",
       "    </tr>\n",
       "    <tr>\n",
       "      <th>73144</th>\n",
       "      <td>120</td>\n",
       "      <td>online</td>\n",
       "      <td>easy</td>\n",
       "      <td>M</td>\n",
       "      <td>Matriculation</td>\n",
       "      <td>2</td>\n",
       "      <td>27.0</td>\n",
       "      <td>3</td>\n",
       "      <td>N</td>\n",
       "      <td>4.0</td>\n",
       "      <td>1</td>\n",
       "    </tr>\n",
       "    <tr>\n",
       "      <th>73145</th>\n",
       "      <td>131</td>\n",
       "      <td>offline</td>\n",
       "      <td>intermediate</td>\n",
       "      <td>M</td>\n",
       "      <td>High School Diploma</td>\n",
       "      <td>3</td>\n",
       "      <td>27.0</td>\n",
       "      <td>2</td>\n",
       "      <td>N</td>\n",
       "      <td>2.0</td>\n",
       "      <td>1</td>\n",
       "    </tr>\n",
       "    <tr>\n",
       "      <th>73146</th>\n",
       "      <td>121</td>\n",
       "      <td>online</td>\n",
       "      <td>easy</td>\n",
       "      <td>F</td>\n",
       "      <td>High School Diploma</td>\n",
       "      <td>3</td>\n",
       "      <td>31.0</td>\n",
       "      <td>2</td>\n",
       "      <td>N</td>\n",
       "      <td>4.0</td>\n",
       "      <td>1</td>\n",
       "    </tr>\n",
       "  </tbody>\n",
       "</table>\n",
       "<p>73147 rows × 11 columns</p>\n",
       "</div>"
      ],
      "text/plain": [
       "       program_duration test_type difficulty_level gender  \\\n",
       "0                   136   offline     intermediate      M   \n",
       "1                   131   offline             easy      F   \n",
       "2                   120    online             easy      M   \n",
       "3                   117   offline             easy      F   \n",
       "4                   131   offline     intermediate      F   \n",
       "...                 ...       ...              ...    ...   \n",
       "73142               130   offline             easy      F   \n",
       "73143               117    online             easy      F   \n",
       "73144               120    online             easy      M   \n",
       "73145               131   offline     intermediate      M   \n",
       "73146               121    online             easy      F   \n",
       "\n",
       "                 education  city_tier   age  total_programs_enrolled  \\\n",
       "0            Matriculation          3  24.0                        5   \n",
       "1      High School Diploma          4  26.0                        2   \n",
       "2            Matriculation          1  40.0                        1   \n",
       "3            Matriculation          3  27.0                        4   \n",
       "4      High School Diploma          1  42.0                        2   \n",
       "...                    ...        ...   ...                      ...   \n",
       "73142  High School Diploma          3  27.0                        1   \n",
       "73143  High School Diploma          2  45.0                        2   \n",
       "73144        Matriculation          2  27.0                        3   \n",
       "73145  High School Diploma          3  27.0                        2   \n",
       "73146  High School Diploma          3  31.0                        2   \n",
       "\n",
       "      is_handicapped  trainee_engagement_rating  is_pass  \n",
       "0                  N                        1.0        0  \n",
       "1                  N                        3.0        1  \n",
       "2                  N                        2.0        1  \n",
       "3                  N                        1.0        1  \n",
       "4                  N                        4.0        1  \n",
       "...              ...                        ...      ...  \n",
       "73142              N                        2.0        1  \n",
       "73143              N                        2.0        1  \n",
       "73144              N                        4.0        1  \n",
       "73145              N                        2.0        1  \n",
       "73146              N                        4.0        1  \n",
       "\n",
       "[73147 rows x 11 columns]"
      ]
     },
     "execution_count": 258,
     "metadata": {},
     "output_type": "execute_result"
    }
   ],
   "source": [
    "#df.drop(columns=)"
   ]
  },
  {
   "cell_type": "code",
   "execution_count": 269,
   "metadata": {},
   "outputs": [],
   "source": [
    "df = pd.concat([df,trial], axis=1)\n"
   ]
  },
  {
   "cell_type": "code",
   "execution_count": 284,
   "metadata": {},
   "outputs": [],
   "source": [
    "from sklearn.model_selection import train_test_split\n",
    "from sklearn.preprocessing import StandardScaler\n",
    "from sklearn.linear_model import LogisticRegression\n",
    "from sklearn import metrics"
   ]
  },
  {
   "cell_type": "code",
   "execution_count": 274,
   "metadata": {},
   "outputs": [],
   "source": [
    "X_train,X_test,y_train,y_test=train_test_split(df.drop(columns=['is_pass']),df.is_pass,test_size=0.33,random_state=42)"
   ]
  },
  {
   "cell_type": "code",
   "execution_count": 278,
   "metadata": {},
   "outputs": [],
   "source": [
    "scaler=StandardScaler()\n",
    "X_train=scaler.fit_transform(X_train)\n",
    "X_test=scaler.transform(X_test)"
   ]
  },
  {
   "cell_type": "code",
   "execution_count": 282,
   "metadata": {},
   "outputs": [
    {
     "name": "stderr",
     "output_type": "stream",
     "text": [
      "/home/deba/anaconda3/envs/db/lib/python3.7/site-packages/sklearn/linear_model/logistic.py:432: FutureWarning: Default solver will be changed to 'lbfgs' in 0.22. Specify a solver to silence this warning.\n",
      "  FutureWarning)\n"
     ]
    }
   ],
   "source": [
    "logi=LogisticRegression()\n",
    "logi.fit(X_train,y_train)\n",
    "pred=logi.predict(X_test)"
   ]
  },
  {
   "cell_type": "markdown",
   "metadata": {},
   "source": [
    "Very Bad Score! We have to preprocess it more so as to have good ROC_AUC score"
   ]
  },
  {
   "cell_type": "code",
   "execution_count": 286,
   "metadata": {},
   "outputs": [
    {
     "data": {
      "text/plain": [
       "0.5462586339499933"
      ]
     },
     "execution_count": 286,
     "metadata": {},
     "output_type": "execute_result"
    }
   ],
   "source": [
    "metrics.accuracy_score(y_test,pred)\n",
    "metrics.roc_auc_score(y_test,pred)b"
   ]
  },
  {
   "cell_type": "code",
   "execution_count": null,
   "metadata": {},
   "outputs": [],
   "source": []
  }
 ],
 "metadata": {
  "kernelspec": {
   "display_name": "Python 3",
   "language": "python",
   "name": "python3"
  },
  "language_info": {
   "codemirror_mode": {
    "name": "ipython",
    "version": 3
   },
   "file_extension": ".py",
   "mimetype": "text/x-python",
   "name": "python",
   "nbconvert_exporter": "python",
   "pygments_lexer": "ipython3",
   "version": "3.7.5"
  }
 },
 "nbformat": 4,
 "nbformat_minor": 2
}
